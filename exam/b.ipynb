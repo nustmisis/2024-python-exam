{
 "cells": [
  {
   "cell_type": "markdown",
   "metadata": {},
   "source": [
    "### Задание №1\n",
    "\n",
    "*Title case* &ndash; стиль заголовка, в котором каждое слово пишется с заглавной буквы.\n",
    "\n",
    "Реализуйте функцию `to_title_case(line)`, которая возвращает строку `line`, приведенную в *title case*. Гарантируется, что `line` не содержит переводов строки (`'\\n'`).\n",
    "\n",
    "```python\n",
    ">>> to_title_case('hello world!')\n",
    "'Hello World!'\n",
    "\n",
    ">>> to_title_case('fall canceled after 3 billion seasons')\n",
    "'Fall Canceled After 3 Billion Seasons'\n",
    "```"
   ]
  },
  {
   "cell_type": "code",
   "execution_count": null,
   "metadata": {},
   "outputs": [],
   "source": []
  },
  {
   "cell_type": "markdown",
   "metadata": {},
   "source": [
    "### Задание №2\n",
    "\n",
    "Реализуйте класс `Storage`, представляющий устройство хранения данных.\n",
    "\n",
    "Конструктор `Storage` должен принимать целое число `size` и строку `unit`, которые содержат информацию об объеме устройства и используемых единицах измерения.\n",
    "\n",
    "```python\n",
    "Storage(100, 'mb')  # 300 мегабайт\n",
    "Storage(10, 'tb')   # 10 терабайт\n",
    "Storage(320, 'kb')  # 320 килобайт\n",
    "```\n",
    "\n",
    "Таблица используемых единиц измерения:\n",
    "\n",
    "|Значение `unit`|Единица измерения|          Объем в байтах|\n",
    "|:-------------:|:---------------:|-----------------------:|\n",
    "|      `'b'`    |      байты      |                     $1$|\n",
    "|     `'kb'`    |    килобайты    |            $1000, 10^3$|\n",
    "|     `'mb'`    |    мегабайты    |         $1000000, 10^6$|\n",
    "|     `'gb'`    |    гигабайты    |      $1000000000, 10^9$|\n",
    "|     `'tb'`    |    терабайты    |$1000000000000, 10^{12}$|\n",
    "\n",
    "При передаче любого другого значения `unit` должно выбрасываться исключение `ValueError`.\n",
    "\n",
    "Реализуйте сложение экземпляров `Storage`. Результатом операции должен быть новый экземпляр `Storage`, объем которого должен быть равен сумме объемов операндов.\n",
    "\n",
    "```python\n",
    ">>> Storage(4, 'gb') + Storage(500, 'mb')\n",
    "'4.5GB'\n",
    "```\n",
    "\n",
    "При выводе экземпляров `Storage` должна выводиться строка, содержащая объем устройства в самых крупных единицах, при условии что выводимое число не меньше 1, и название единиц измерения в верхнем регистре. Устройства с объемом 0 байт должны выводиться как `'0.0B'`.\n",
    "\n",
    "```python\n",
    ">>> Storage(100, 'b')\n",
    "'100.0B'\n",
    "\n",
    ">>> Storage(100, 'kb') + Storage(2, 'mb')\n",
    "'2.1MB'\n",
    "\n",
    ">>> Storage(500, 'gb') + Storage(600000, 'mb')\n",
    "'1.1TB'\n",
    "```"
   ]
  },
  {
   "cell_type": "code",
   "execution_count": null,
   "metadata": {},
   "outputs": [],
   "source": []
  },
  {
   "cell_type": "markdown",
   "metadata": {},
   "source": [
    "### Задание №3"
   ]
  },
  {
   "cell_type": "code",
   "execution_count": null,
   "metadata": {},
   "outputs": [],
   "source": [
    "import pandas as pd\n",
    "\n",
    "diamonds = pd.read_csv('https://raw.githubusercontent.com/mwaskom/seaborn-data/master/diamonds.csv')\n",
    "diamonds"
   ]
  },
  {
   "cell_type": "markdown",
   "metadata": {},
   "source": [
    "В датафрейм `diamonds` загружены записи об алмазах: число карат, качество огранки, цвет, чистота, глубина, размер верхней грани, цена и три измерения размеров.\n",
    "\n",
    "Выведите на экран следующие значения:\n",
    "\n",
    "1. Цена самого большого по числу карат алмаза."
   ]
  },
  {
   "cell_type": "code",
   "execution_count": null,
   "metadata": {},
   "outputs": [],
   "source": []
  },
  {
   "cell_type": "markdown",
   "metadata": {},
   "source": [
    "2. Средняя цена за карат."
   ]
  },
  {
   "cell_type": "code",
   "execution_count": null,
   "metadata": {},
   "outputs": [],
   "source": []
  },
  {
   "cell_type": "markdown",
   "metadata": {},
   "source": [
    "3. Процент алмазов, имеющих чистоту уровня `\"VVS2\"` или лучше (считая, что чистота идет по убыванию в порядке `\"IF\"`, `\"VVS1\"`, `\"VVS2\"`, `\"VS1\"`, `\"VS2\"`, `\"SI1\"`, `\"SI2\"`, `\"SI3\"`, `\"I1\"`)."
   ]
  },
  {
   "cell_type": "code",
   "execution_count": null,
   "metadata": {},
   "outputs": [],
   "source": []
  }
 ],
 "metadata": {
  "kernelspec": {
   "display_name": "sandbox",
   "language": "python",
   "name": "python3"
  },
  "language_info": {
   "codemirror_mode": {
    "name": "ipython",
    "version": 3
   },
   "file_extension": ".py",
   "mimetype": "text/x-python",
   "name": "python",
   "nbconvert_exporter": "python",
   "pygments_lexer": "ipython3",
   "version": "3.1.-1"
  }
 },
 "nbformat": 4,
 "nbformat_minor": 2
}
