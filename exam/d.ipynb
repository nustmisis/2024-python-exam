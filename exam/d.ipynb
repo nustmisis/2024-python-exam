{
 "cells": [
  {
   "cell_type": "markdown",
   "metadata": {},
   "source": [
    "### Задание №1\n",
    "\n",
    "Среднее гармоническое набора положительных чисел $x_1, ..., x_n$ определяется как число, обратное среднему арифметическому от обратных к числам $x_1, ..., x_n$:\n",
    "\n",
    "$$\n",
    "H = \\frac{n}{\\frac{1}{x_1} + ... + \\frac{1}{x_n}},\n",
    "$$\n",
    "где $H$ &ndash; среднее гармоническое.\n",
    "\n",
    "Реализуйте функцию `harmonic_mean(values)`, возвращающую среднее гармоническое списка чисел `values`.\n",
    "\n",
    "```python\n",
    ">>> harmonic_mean([4, 36, 45, 50, 75])\n",
    "15.0\n",
    "``` "
   ]
  },
  {
   "cell_type": "code",
   "execution_count": null,
   "metadata": {},
   "outputs": [],
   "source": []
  },
  {
   "cell_type": "markdown",
   "metadata": {},
   "source": [
    "### Задание №2\n",
    "\n",
    "Реализуйте класс `Rectangle`, отражающий прямоугольник.\n",
    "\n",
    "Конструктор `Rectangle` должен принимать числа `width` и `height`, содержащие длины сторон прямоугольника.\n",
    "\n",
    "Реализуйте операции сравнения (`>`, `>=`, `==`, `!=`, `<`, `<=`) для класса `Rectangle` так, чтобы экземпляры `Rectangle` сравнивались по своей площади.\n",
    "\n",
    "```python\n",
    ">>> Rectangle(3, 5) >= Rectangle(2, 6)\n",
    "False\n",
    "\n",
    ">>> Rectangle(9, 1) < Rectangle(2, 3)\n",
    "True\n",
    "\n",
    ">>> Rectangle(4, 5) >= Rectangle(1, 20)\n",
    "True\n",
    "\n",
    ">>> Rectangle(234 * 567) == Rectangle(117, 1134)\n",
    "True\n",
    "``` "
   ]
  },
  {
   "cell_type": "code",
   "execution_count": null,
   "metadata": {},
   "outputs": [],
   "source": []
  },
  {
   "cell_type": "markdown",
   "metadata": {},
   "source": [
    "### Задание №3"
   ]
  },
  {
   "cell_type": "code",
   "execution_count": null,
   "metadata": {},
   "outputs": [],
   "source": [
    "import pandas as pd\n",
    "\n",
    "cars = pd.read_csv('https://raw.githubusercontent.com/mwaskom/seaborn-data/master/mpg.csv')\n",
    "cars"
   ]
  },
  {
   "cell_type": "markdown",
   "metadata": {},
   "source": [
    "В датасет `cars` загружены следующие данные о автомобилях: число миль на галлон, количество цилиндров в двигателе, объем двигателя, мощность в лошадиных силах, вес, ускорение, год производства, страна происхождения и название. На основании записей в датасете определите:\n",
    "\n",
    "1. Сколько машин весом более 3000 в данном датасете было произведено не в США?"
   ]
  },
  {
   "cell_type": "code",
   "execution_count": null,
   "metadata": {},
   "outputs": [],
   "source": []
  },
  {
   "cell_type": "markdown",
   "metadata": {},
   "source": [
    "2. Какова максимальная мощность двигателя в лошадиных силах среди машин из США?"
   ]
  },
  {
   "cell_type": "code",
   "execution_count": null,
   "metadata": {},
   "outputs": [],
   "source": []
  },
  {
   "cell_type": "markdown",
   "metadata": {},
   "source": [
    "3. Сколько машин с 4 цилиндрами имеют показатель ускорения более 23?"
   ]
  },
  {
   "cell_type": "code",
   "execution_count": null,
   "metadata": {},
   "outputs": [],
   "source": []
  }
 ],
 "metadata": {
  "kernelspec": {
   "display_name": "sandbox",
   "language": "python",
   "name": "python3"
  },
  "language_info": {
   "codemirror_mode": {
    "name": "ipython",
    "version": 3
   },
   "file_extension": ".py",
   "mimetype": "text/x-python",
   "name": "python",
   "nbconvert_exporter": "python",
   "pygments_lexer": "ipython3",
   "version": "3.1.-1"
  }
 },
 "nbformat": 4,
 "nbformat_minor": 2
}
