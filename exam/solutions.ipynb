{
 "cells": [
  {
   "cell_type": "markdown",
   "metadata": {},
   "source": [
    "### Задание №1 A\n",
    "\n",
    "Реализуйте функцию `flatten(arr)`, которая принимает список `arr`, все элементы которого также являются списками. Возвращаемое значение функции должно быть списком из всех элементов списков, вложенных в `arr`.\n",
    "\n",
    "```python\n",
    ">>> flatten([[1, 2], [3, 4]])\n",
    "[1, 2, 3, 4]\n",
    "\n",
    ">>> flatten([\n",
    "... [\"h\", \"e\", \"l\"],\n",
    "... [\"l\", \"o\", \" \"],\n",
    "... [\"w\", \"o\", \"r\"],\n",
    "... [\"l\", \"d\", \"!\"],\n",
    "... ])\n",
    "[\"h\", \"e\", \"l\", \"l\", \"o\", \" \", \"w\", \"o\", \"r\", \"l\", \"d\", \"!\"]\n",
    "\n",
    ">>> flatten([[\"a\", \"b\", [\"c\"]]])\n",
    "[\"a\", \"b\", [\"c\"]]\n",
    "```"
   ]
  },
  {
   "cell_type": "code",
   "execution_count": null,
   "metadata": {},
   "outputs": [],
   "source": [
    "def flatten(arr: list[list]) -> list:\n",
    "    res = []\n",
    "    for sublist in arr:\n",
    "        for item in sublist:\n",
    "            res.append(item)\n",
    "    return res"
   ]
  },
  {
   "cell_type": "code",
   "execution_count": 1,
   "metadata": {},
   "outputs": [],
   "source": [
    "# альтернативное решение\n",
    "def flatten(arr: list[list]) -> list:\n",
    "    return [item for sublist in arr for item in sublist]"
   ]
  },
  {
   "cell_type": "markdown",
   "metadata": {},
   "source": [
    "### Задание №1 B\n",
    "\n",
    "*Title case* &ndash; стиль заголовка, в котором каждое слово пишется с заглавной буквы.\n",
    "\n",
    "Реализуйте функцию `to_title_case(line)`, которая возвращает строку `line`, приведенную в *title case*. Гарантируется, что `line` не содержит переводов строки (`'\\n'`).\n",
    "\n",
    "```python\n",
    ">>> to_title_case('hello world!')\n",
    "'Hello World!'\n",
    "\n",
    ">>> to_title_case('fall canceled after 3 billion seasons')\n",
    "'Fall Canceled After 3 Billion Seasons'\n",
    "```"
   ]
  },
  {
   "cell_type": "code",
   "execution_count": 2,
   "metadata": {},
   "outputs": [
    {
     "data": {
      "text/plain": [
       "'Fall Canceled After 3 Billion Seasons'"
      ]
     },
     "execution_count": 2,
     "metadata": {},
     "output_type": "execute_result"
    }
   ],
   "source": [
    "def to_title_case(text: str) -> str:\n",
    "    return \" \".join(word.capitalize() for word in text.split())\n",
    "\n",
    "to_title_case(\"fall canceled after 3 billion seasons\")"
   ]
  },
  {
   "cell_type": "markdown",
   "metadata": {},
   "source": [
    "### Задание №1 С\n",
    "\n",
    "Реализуйте функцию `mailgun(message, fr, *to)`, которая принимает строку с сообщением `message`, строку с именем отправителя `fr` и произвольное число строк с именами адресатов `to`. Для каждого адресата функция должна вывести на экран строку, содержащую приветствие адресата \"Dear *(имя адресата)*\", текст сообщения `message` и заключение \"Sincerely yours, *(имя отправителя)*\".\n",
    "\n",
    "```python\n",
    ">>> message = 'Could you spare a small smackerel?'\n",
    ">>> mailgun(message, 'Winnie', 'Piglet', 'Rabbit', 'Kanga')\n",
    "Dear Piglet! Could you spare a small smackerel? Sincerely yours, Winnie\n",
    "Dear Rabbit! Could you spare a small smackerel? Sincerely yours, Winnie\n",
    "Dear Kanga! Could you spare a small smackerel? Sincerely yours, Winnie\n",
    "```"
   ]
  },
  {
   "cell_type": "code",
   "execution_count": 3,
   "metadata": {},
   "outputs": [
    {
     "name": "stdout",
     "output_type": "stream",
     "text": [
      "Dear Piglet! Could you spare a small smackerel? Sincerely yours, Winnie\n",
      "Dear Rabbit! Could you spare a small smackerel? Sincerely yours, Winnie\n",
      "Dear Kanga! Could you spare a small smackerel? Sincerely yours, Winnie\n"
     ]
    }
   ],
   "source": [
    "def mailgun(message: str, fr: str, *to: str):\n",
    "    for name in to:\n",
    "        print(f\"Dear {name}! {message} Sincerely yours, {fr}\")\n",
    "\n",
    "mailgun('Could you spare a small smackerel?', 'Winnie', 'Piglet', 'Rabbit', 'Kanga')"
   ]
  },
  {
   "cell_type": "markdown",
   "metadata": {},
   "source": [
    "### Задание №1 D\n",
    "\n",
    "Среднее гармоническое набора положительных чисел $x_1, ..., x_n$ определяется как число, обратное среднему арифметическому от обратных к числам $x_1, ..., x_n$:\n",
    "\n",
    "$$\n",
    "H = \\frac{n}{\\frac{1}{x_1} + ... + \\frac{1}{x_n}},\n",
    "$$\n",
    "где $H$ &ndash; среднее гармоническое.\n",
    "\n",
    "Реализуйте функцию `harmonic_mean(values)`, возвращающую среднее гармоническое списка чисел `values`.\n",
    "\n",
    "```python\n",
    ">>> harmonic_mean([4, 36, 45, 50, 75])\n",
    "15.0\n",
    "``` "
   ]
  },
  {
   "cell_type": "code",
   "execution_count": 4,
   "metadata": {},
   "outputs": [
    {
     "data": {
      "text/plain": [
       "15.0"
      ]
     },
     "execution_count": 4,
     "metadata": {},
     "output_type": "execute_result"
    }
   ],
   "source": [
    "def harmonic_mean(values: list[float]) -> float:\n",
    "    return len(values) / sum(1 / x for x in values)\n",
    "\n",
    "\n",
    "harmonic_mean([4, 36, 45, 50, 75])"
   ]
  },
  {
   "cell_type": "markdown",
   "metadata": {},
   "source": [
    "### Задание №2 A\n",
    "\n",
    "Реализуйте класс `Uint8`, отражающий целое число в диапазоне $[0; 255]$ (от 0 до 255 включительно). Конструктор `Uint8` принимает целое число, которое считается числовым значением экземпляра `Uint8`. \n",
    "\n",
    "Реализуйте операции сложения и вычитания для класса `Uint8`, поддерживающие операции с другими экземплярами `Uint8` или `int` (правосторонние операторы реализовывать не требуется).\n",
    "\n",
    "В экземпляре `Uint8` никогда не должно храниться число вне диапазона $[0; 255]$. Если любая операция (создание экземпляра, сложение или вычитание) приводит к выходу за пределы диапазона, полученное число должно быть разделено на `256` по модулю.\n",
    "\n",
    "Вывод экземпляра `Uint8` в консоль должен быть идентичен выводу в консоль числа типа `int` с тем же значением.\n",
    "\n",
    "```python\n",
    ">>> Uint8(5)\n",
    "5\n",
    "\n",
    ">>> Uint8(3) - 2 + Uint8(1)\n",
    "2\n",
    "\n",
    ">>> Uint8(251) + 10  # (251 + 10) % 256 == (256 + 5) % 256\n",
    "5\n",
    "```"
   ]
  },
  {
   "cell_type": "code",
   "execution_count": 5,
   "metadata": {},
   "outputs": [
    {
     "data": {
      "text/plain": [
       "5"
      ]
     },
     "execution_count": 5,
     "metadata": {},
     "output_type": "execute_result"
    }
   ],
   "source": [
    "class Uint8(int):\n",
    "    def __add__(self, other):\n",
    "        return Uint8(super().__add__(other) % 256) if isinstance(other, int) else NotImplemented\n",
    "\n",
    "    def __sub__(self, other):\n",
    "        return Uint8(super().__sub__(other) % 256) if isinstance(other, int) else NotImplemented\n",
    "\n",
    "Uint8(251) + 10"
   ]
  },
  {
   "cell_type": "markdown",
   "metadata": {},
   "source": [
    "### Задание №2 B\n",
    "\n",
    "Реализуйте класс `Storage`, представляющий устройство хранения данных.\n",
    "\n",
    "Конструктор `Storage` должен принимать целое число `size` и строку `unit`, которые содержат информацию об объеме устройства и используемых единицах измерения.\n",
    "\n",
    "```python\n",
    "Storage(100, 'mb')  # 300 мегабайт\n",
    "Storage(10, 'tb')   # 10 терабайт\n",
    "Storage(320, 'kb')  # 320 килобайт\n",
    "```\n",
    "\n",
    "Таблица используемых единиц измерения:\n",
    "\n",
    "|Значение `unit`|Единица измерения|          Объем в байтах|\n",
    "|:-------------:|:---------------:|-----------------------:|\n",
    "|      `'b'`    |      байты      |                     $1$|\n",
    "|     `'kb'`    |    килобайты    |            $1000, 10^3$|\n",
    "|     `'mb'`    |    мегабайты    |         $1000000, 10^6$|\n",
    "|     `'gb'`    |    гигабайты    |      $1000000000, 10^9$|\n",
    "|     `'tb'`    |    терабайты    |$1000000000000, 10^{12}$|\n",
    "\n",
    "При передаче любого другого значения `unit` должно выбрасываться исключение `ValueError`.\n",
    "\n",
    "Реализуйте сложение экземпляров `Storage`. Результатом операции должен быть новый экземпляр `Storage`, объем которого должен быть равен сумме объемов операндов.\n",
    "\n",
    "```python\n",
    ">>> Storage(4, 'gb') + Storage(500, 'mb')\n",
    "'4.5GB'\n",
    "```\n",
    "\n",
    "При выводе экземпляров `Storage` должна выводиться строка, содержащая объем устройства в самых крупных единицах, при условии что выводимое число не меньше 1, и название единиц измерения в верхнем регистре. Устройства с объемом 0 байт должны выводиться как `'0.0B'`.\n",
    "\n",
    "```python\n",
    ">>> Storage(100, 'b')\n",
    "'100.0B'\n",
    "\n",
    ">>> Storage(100, 'kb') + Storage(2, 'mb')\n",
    "'2.1MB'\n",
    "\n",
    ">>> Storage(500, 'gb') + Storage(600000, 'mb')\n",
    "'1.1TB'\n",
    "```"
   ]
  },
  {
   "cell_type": "code",
   "execution_count": 6,
   "metadata": {},
   "outputs": [
    {
     "data": {
      "text/plain": [
       "500.0B"
      ]
     },
     "execution_count": 6,
     "metadata": {},
     "output_type": "execute_result"
    }
   ],
   "source": [
    "storage_units = {\n",
    "    'b': 1,\n",
    "    'kb': int(1e3),\n",
    "    'mb': int(1e6),\n",
    "    'gb': int(1e9),\n",
    "    'tb': int(1e12),\n",
    "}\n",
    "\n",
    "class Storage:\n",
    "    b: int\n",
    "\n",
    "    def __init__(self, size: int, unit: str = 'b'):\n",
    "        unit = unit.lower()\n",
    "        if unit not in storage_units:\n",
    "            raise ValueError\n",
    "        self.b = size * storage_units[unit]\n",
    "\n",
    "    def __add__(self, other):\n",
    "        if not isinstance(other, Storage):\n",
    "            return NotImplemented\n",
    "        return Storage(self.b + other.b)\n",
    "    \n",
    "    def __str__(self):\n",
    "        for unit, coef in reversed(storage_units.items()):\n",
    "            if self.b >= coef:\n",
    "                return f\"{self.b / coef}{unit.upper()}\"\n",
    "        return f\"{self.b}B\"\n",
    "\n",
    "    __repr__ = __str__\n",
    "\n",
    "Storage(500, 'b')"
   ]
  },
  {
   "cell_type": "markdown",
   "metadata": {},
   "source": [
    "### Задание №2 C\n",
    "\n",
    "Реализуйте класс `Distance`, представляющий собой расстояние.\n",
    "\n",
    "Конструктор `Distance` должен принимать целое число `size` и строку `unit`, которые содержат информацию о длине и используемых единицах измерения.\n",
    "\n",
    "```python\n",
    "Distance(50, 'm')    # 50 метров\n",
    "Distance(2, 'km')    # 2 километра\n",
    "Distance(100, 'cm')  # 100 сантиметров\n",
    "```\n",
    "\n",
    "Таблица используемых единиц измерения:\n",
    "\n",
    "|Значение `unit`|Единица измерения|Длина в миллиметрах|\n",
    "|:-------------:|:---------------:|------------------:|\n",
    "|     `'mm'`    |   миллиметры    |                $1$|\n",
    "|     `'cm'`    |   сантиметры    |               $10$|\n",
    "|      `'m'`    |      метры      |       $1000, 10^3$|\n",
    "|     `'km'`    |    километры    |    $1000000, 10^6$|\n",
    "\n",
    "При передаче любого другого значения `unit` должно выбрасываться исключение `ValueError`.\n",
    "\n",
    "Реализуйте сложение экземпляров `Distance`. Результатом операции должен быть новый экземпляр `Distance`, длина которого должна быть равна сумме длин операндов.\n",
    "\n",
    "```python\n",
    ">>> Distance(100, 'm') + Distance(3, 'km')\n",
    "'3.1km'\n",
    "```\n",
    "\n",
    "При выводе экземпляров `Distance` должна выводиться строка, содержащая длину в самых крупных единицах, при условии что выводимое число не меньше единицы, и название единиц измерения в нижнем регистре. Расстояния с длиной 0 метров должны выводиться как `'0.0mm'`.\n",
    "\n",
    "```python\n",
    ">>> Distance(100, 'mm')\n",
    "'10.0cm'\n",
    "\n",
    ">>> Distance(250, 'm') + Distance(900, 'm')\n",
    "'1.15km'\n",
    "\n",
    ">>> Distance(50000, 'cm') + Distance(600000, 'mm')\n",
    "'5.6km'\n",
    "```"
   ]
  },
  {
   "cell_type": "code",
   "execution_count": 7,
   "metadata": {},
   "outputs": [],
   "source": [
    "distance_units = {\n",
    "    'mm': 1,\n",
    "    'cm': 1e2,\n",
    "    'm': 1e3,\n",
    "    'km': 1e6,\n",
    "}\n",
    "\n",
    "class Distance:\n",
    "    mm: int\n",
    "\n",
    "    def __init__(self, size: int, unit: str = 'mm'):\n",
    "        unit = unit.lower()\n",
    "        if unit not in distance_units:\n",
    "            raise ValueError\n",
    "        self.mm = size * distance_units[unit]\n",
    "\n",
    "    def __add__(self, other):\n",
    "        if not isinstance(other, Distance):\n",
    "            return NotImplemented\n",
    "        return Distance(self.mm + other.mm)\n",
    "    \n",
    "    def __str__(self):\n",
    "        for unit, coef in reversed(distance_units.items()):\n",
    "            if self.mm >= coef:\n",
    "                return f\"{self.mm / coef}{unit.lower()}\"\n",
    "        return f\"{self.mm}mm\"\n",
    "\n",
    "    __repr__ = __str__"
   ]
  },
  {
   "cell_type": "markdown",
   "metadata": {},
   "source": [
    "### Задание №2 D\n",
    "\n",
    "Реализуйте класс `Rectangle`, отражающий прямоугольник.\n",
    "\n",
    "Конструктор `Rectangle` должен принимать числа `width` и `height`, содержащие длины сторон прямоугольника.\n",
    "\n",
    "Реализуйте операции сравнения (`>`, `>=`, `==`, `!=`, `<`, `<=`) для класса `Rectangle` так, чтобы экземпляры `Rectangle` сравнивались по своей площади.\n",
    "\n",
    "```python\n",
    ">>> Rectangle(3, 5) >= Rectangle(2, 6)\n",
    "False\n",
    "\n",
    ">>> Rectangle(9, 1) < Rectangle(2, 3)\n",
    "True\n",
    "\n",
    ">>> Rectangle(4, 5) >= Rectangle(1, 20)\n",
    "True\n",
    "\n",
    ">>> Rectangle(234 * 567) == Rectangle(117, 1134)\n",
    "True\n",
    "``` "
   ]
  },
  {
   "cell_type": "code",
   "execution_count": 8,
   "metadata": {},
   "outputs": [
    {
     "data": {
      "text/plain": [
       "True"
      ]
     },
     "execution_count": 8,
     "metadata": {},
     "output_type": "execute_result"
    }
   ],
   "source": [
    "class Rectangle:\n",
    "    def __init__(self, width: float, height: float) -> None:\n",
    "        self.width = width\n",
    "        self.height = height\n",
    "\n",
    "    def area(self) -> float:\n",
    "        return self.width * self.height\n",
    "\n",
    "    def __eq__(self, other) -> bool:\n",
    "        return isinstance(other, Rectangle) and self.area() == other.area()\n",
    "\n",
    "    def __lt__(self, other) -> bool:\n",
    "        return isinstance(other, Rectangle) and self.area() < other.area()\n",
    "    \n",
    "    def __le__(self, other) -> bool:\n",
    "        return isinstance(other, Rectangle) and self.area() <= other.area()\n",
    "    \n",
    "Rectangle(234, 567) == Rectangle(117, 1134)"
   ]
  },
  {
   "cell_type": "code",
   "execution_count": 9,
   "metadata": {},
   "outputs": [
    {
     "data": {
      "text/plain": [
       "True"
      ]
     },
     "execution_count": 9,
     "metadata": {},
     "output_type": "execute_result"
    }
   ],
   "source": [
    "# альтернативное решение\n",
    "\n",
    "import functools\n",
    "import dataclasses\n",
    "\n",
    "@dataclasses.dataclass\n",
    "@functools.total_ordering\n",
    "class Rectangle:\n",
    "    width: float\n",
    "    height: float\n",
    "\n",
    "    def area(self) -> float:\n",
    "        return self.width * self.height\n",
    "\n",
    "    def __eq__(self, other) -> bool:\n",
    "        return isinstance(other, Rectangle) and self.area() == other.area()\n",
    "\n",
    "    def __lt__(self, other) -> bool:\n",
    "        return isinstance(other, Rectangle) and self.area() < other.area()\n",
    "    \n",
    "Rectangle(3, 5) >= Rectangle(1, 15)"
   ]
  },
  {
   "cell_type": "markdown",
   "metadata": {},
   "source": [
    "### Задание №3 A"
   ]
  },
  {
   "cell_type": "code",
   "execution_count": 10,
   "metadata": {},
   "outputs": [
    {
     "data": {
      "text/html": [
       "<div>\n",
       "<style scoped>\n",
       "    .dataframe tbody tr th:only-of-type {\n",
       "        vertical-align: middle;\n",
       "    }\n",
       "\n",
       "    .dataframe tbody tr th {\n",
       "        vertical-align: top;\n",
       "    }\n",
       "\n",
       "    .dataframe thead th {\n",
       "        text-align: right;\n",
       "    }\n",
       "</style>\n",
       "<table border=\"1\" class=\"dataframe\">\n",
       "  <thead>\n",
       "    <tr style=\"text-align: right;\">\n",
       "      <th></th>\n",
       "      <th>species</th>\n",
       "      <th>island</th>\n",
       "      <th>bill_length_mm</th>\n",
       "      <th>bill_depth_mm</th>\n",
       "      <th>flipper_length_mm</th>\n",
       "      <th>body_mass_g</th>\n",
       "      <th>sex</th>\n",
       "    </tr>\n",
       "  </thead>\n",
       "  <tbody>\n",
       "    <tr>\n",
       "      <th>0</th>\n",
       "      <td>Adelie</td>\n",
       "      <td>Torgersen</td>\n",
       "      <td>39.1</td>\n",
       "      <td>18.7</td>\n",
       "      <td>181.0</td>\n",
       "      <td>3750.0</td>\n",
       "      <td>MALE</td>\n",
       "    </tr>\n",
       "    <tr>\n",
       "      <th>1</th>\n",
       "      <td>Adelie</td>\n",
       "      <td>Torgersen</td>\n",
       "      <td>39.5</td>\n",
       "      <td>17.4</td>\n",
       "      <td>186.0</td>\n",
       "      <td>3800.0</td>\n",
       "      <td>FEMALE</td>\n",
       "    </tr>\n",
       "    <tr>\n",
       "      <th>2</th>\n",
       "      <td>Adelie</td>\n",
       "      <td>Torgersen</td>\n",
       "      <td>40.3</td>\n",
       "      <td>18.0</td>\n",
       "      <td>195.0</td>\n",
       "      <td>3250.0</td>\n",
       "      <td>FEMALE</td>\n",
       "    </tr>\n",
       "    <tr>\n",
       "      <th>4</th>\n",
       "      <td>Adelie</td>\n",
       "      <td>Torgersen</td>\n",
       "      <td>36.7</td>\n",
       "      <td>19.3</td>\n",
       "      <td>193.0</td>\n",
       "      <td>3450.0</td>\n",
       "      <td>FEMALE</td>\n",
       "    </tr>\n",
       "    <tr>\n",
       "      <th>5</th>\n",
       "      <td>Adelie</td>\n",
       "      <td>Torgersen</td>\n",
       "      <td>39.3</td>\n",
       "      <td>20.6</td>\n",
       "      <td>190.0</td>\n",
       "      <td>3650.0</td>\n",
       "      <td>MALE</td>\n",
       "    </tr>\n",
       "    <tr>\n",
       "      <th>...</th>\n",
       "      <td>...</td>\n",
       "      <td>...</td>\n",
       "      <td>...</td>\n",
       "      <td>...</td>\n",
       "      <td>...</td>\n",
       "      <td>...</td>\n",
       "      <td>...</td>\n",
       "    </tr>\n",
       "    <tr>\n",
       "      <th>338</th>\n",
       "      <td>Gentoo</td>\n",
       "      <td>Biscoe</td>\n",
       "      <td>47.2</td>\n",
       "      <td>13.7</td>\n",
       "      <td>214.0</td>\n",
       "      <td>4925.0</td>\n",
       "      <td>FEMALE</td>\n",
       "    </tr>\n",
       "    <tr>\n",
       "      <th>340</th>\n",
       "      <td>Gentoo</td>\n",
       "      <td>Biscoe</td>\n",
       "      <td>46.8</td>\n",
       "      <td>14.3</td>\n",
       "      <td>215.0</td>\n",
       "      <td>4850.0</td>\n",
       "      <td>FEMALE</td>\n",
       "    </tr>\n",
       "    <tr>\n",
       "      <th>341</th>\n",
       "      <td>Gentoo</td>\n",
       "      <td>Biscoe</td>\n",
       "      <td>50.4</td>\n",
       "      <td>15.7</td>\n",
       "      <td>222.0</td>\n",
       "      <td>5750.0</td>\n",
       "      <td>MALE</td>\n",
       "    </tr>\n",
       "    <tr>\n",
       "      <th>342</th>\n",
       "      <td>Gentoo</td>\n",
       "      <td>Biscoe</td>\n",
       "      <td>45.2</td>\n",
       "      <td>14.8</td>\n",
       "      <td>212.0</td>\n",
       "      <td>5200.0</td>\n",
       "      <td>FEMALE</td>\n",
       "    </tr>\n",
       "    <tr>\n",
       "      <th>343</th>\n",
       "      <td>Gentoo</td>\n",
       "      <td>Biscoe</td>\n",
       "      <td>49.9</td>\n",
       "      <td>16.1</td>\n",
       "      <td>213.0</td>\n",
       "      <td>5400.0</td>\n",
       "      <td>MALE</td>\n",
       "    </tr>\n",
       "  </tbody>\n",
       "</table>\n",
       "<p>333 rows × 7 columns</p>\n",
       "</div>"
      ],
      "text/plain": [
       "    species     island  bill_length_mm  bill_depth_mm  flipper_length_mm  \\\n",
       "0    Adelie  Torgersen            39.1           18.7              181.0   \n",
       "1    Adelie  Torgersen            39.5           17.4              186.0   \n",
       "2    Adelie  Torgersen            40.3           18.0              195.0   \n",
       "4    Adelie  Torgersen            36.7           19.3              193.0   \n",
       "5    Adelie  Torgersen            39.3           20.6              190.0   \n",
       "..      ...        ...             ...            ...                ...   \n",
       "338  Gentoo     Biscoe            47.2           13.7              214.0   \n",
       "340  Gentoo     Biscoe            46.8           14.3              215.0   \n",
       "341  Gentoo     Biscoe            50.4           15.7              222.0   \n",
       "342  Gentoo     Biscoe            45.2           14.8              212.0   \n",
       "343  Gentoo     Biscoe            49.9           16.1              213.0   \n",
       "\n",
       "     body_mass_g     sex  \n",
       "0         3750.0    MALE  \n",
       "1         3800.0  FEMALE  \n",
       "2         3250.0  FEMALE  \n",
       "4         3450.0  FEMALE  \n",
       "5         3650.0    MALE  \n",
       "..           ...     ...  \n",
       "338       4925.0  FEMALE  \n",
       "340       4850.0  FEMALE  \n",
       "341       5750.0    MALE  \n",
       "342       5200.0  FEMALE  \n",
       "343       5400.0    MALE  \n",
       "\n",
       "[333 rows x 7 columns]"
      ]
     },
     "execution_count": 10,
     "metadata": {},
     "output_type": "execute_result"
    }
   ],
   "source": [
    "import pandas as pd\n",
    "\n",
    "penguins = pd.read_csv('https://raw.githubusercontent.com/mwaskom/seaborn-data/master/penguins.csv').dropna()\n",
    "penguins"
   ]
  },
  {
   "cell_type": "markdown",
   "metadata": {},
   "source": [
    "В датафрейм `penguins` загружены записи о пингвинах: вид, остров нахождения, параметры клюва и плавников, масса тела и пол.\n",
    "\n",
    "Выведите на экран следующие значения:\n",
    "\n",
    "1. Количество различных видов, представленных в датасете."
   ]
  },
  {
   "cell_type": "code",
   "execution_count": 11,
   "metadata": {},
   "outputs": [
    {
     "data": {
      "text/plain": [
       "3"
      ]
     },
     "execution_count": 11,
     "metadata": {},
     "output_type": "execute_result"
    }
   ],
   "source": [
    "len(penguins[\"species\"].unique())"
   ]
  },
  {
   "cell_type": "markdown",
   "metadata": {},
   "source": [
    "2. Отношение числа самок к общему числу пингвинов."
   ]
  },
  {
   "cell_type": "code",
   "execution_count": 12,
   "metadata": {},
   "outputs": [
    {
     "data": {
      "text/plain": [
       "0.4954954954954955"
      ]
     },
     "execution_count": 12,
     "metadata": {},
     "output_type": "execute_result"
    }
   ],
   "source": [
    "len(penguins[penguins['sex'] == 'FEMALE']) / len(penguins)"
   ]
  },
  {
   "cell_type": "markdown",
   "metadata": {},
   "source": [
    "3. Вид (`\"species\"`) пингвина с самой большой массой тела."
   ]
  },
  {
   "cell_type": "code",
   "execution_count": 13,
   "metadata": {},
   "outputs": [
    {
     "data": {
      "text/plain": [
       "237    Gentoo\n",
       "Name: species, dtype: object"
      ]
     },
     "execution_count": 13,
     "metadata": {},
     "output_type": "execute_result"
    }
   ],
   "source": [
    "penguins[penguins[\"body_mass_g\"] == penguins[\"body_mass_g\"].max()][\"species\"]"
   ]
  },
  {
   "cell_type": "code",
   "execution_count": 14,
   "metadata": {},
   "outputs": [
    {
     "data": {
      "text/plain": [
       "'Gentoo'"
      ]
     },
     "execution_count": 14,
     "metadata": {},
     "output_type": "execute_result"
    }
   ],
   "source": [
    "# альтернативное решение\n",
    "penguins.iloc[penguins[\"body_mass_g\"].argmax()][\"species\"]"
   ]
  },
  {
   "cell_type": "markdown",
   "metadata": {},
   "source": [
    "### Задание №3 B"
   ]
  },
  {
   "cell_type": "code",
   "execution_count": 15,
   "metadata": {},
   "outputs": [
    {
     "data": {
      "text/html": [
       "<div>\n",
       "<style scoped>\n",
       "    .dataframe tbody tr th:only-of-type {\n",
       "        vertical-align: middle;\n",
       "    }\n",
       "\n",
       "    .dataframe tbody tr th {\n",
       "        vertical-align: top;\n",
       "    }\n",
       "\n",
       "    .dataframe thead th {\n",
       "        text-align: right;\n",
       "    }\n",
       "</style>\n",
       "<table border=\"1\" class=\"dataframe\">\n",
       "  <thead>\n",
       "    <tr style=\"text-align: right;\">\n",
       "      <th></th>\n",
       "      <th>carat</th>\n",
       "      <th>cut</th>\n",
       "      <th>color</th>\n",
       "      <th>clarity</th>\n",
       "      <th>depth</th>\n",
       "      <th>table</th>\n",
       "      <th>price</th>\n",
       "      <th>x</th>\n",
       "      <th>y</th>\n",
       "      <th>z</th>\n",
       "    </tr>\n",
       "  </thead>\n",
       "  <tbody>\n",
       "    <tr>\n",
       "      <th>0</th>\n",
       "      <td>0.23</td>\n",
       "      <td>Ideal</td>\n",
       "      <td>E</td>\n",
       "      <td>SI2</td>\n",
       "      <td>61.5</td>\n",
       "      <td>55.0</td>\n",
       "      <td>326</td>\n",
       "      <td>3.95</td>\n",
       "      <td>3.98</td>\n",
       "      <td>2.43</td>\n",
       "    </tr>\n",
       "    <tr>\n",
       "      <th>1</th>\n",
       "      <td>0.21</td>\n",
       "      <td>Premium</td>\n",
       "      <td>E</td>\n",
       "      <td>SI1</td>\n",
       "      <td>59.8</td>\n",
       "      <td>61.0</td>\n",
       "      <td>326</td>\n",
       "      <td>3.89</td>\n",
       "      <td>3.84</td>\n",
       "      <td>2.31</td>\n",
       "    </tr>\n",
       "    <tr>\n",
       "      <th>2</th>\n",
       "      <td>0.23</td>\n",
       "      <td>Good</td>\n",
       "      <td>E</td>\n",
       "      <td>VS1</td>\n",
       "      <td>56.9</td>\n",
       "      <td>65.0</td>\n",
       "      <td>327</td>\n",
       "      <td>4.05</td>\n",
       "      <td>4.07</td>\n",
       "      <td>2.31</td>\n",
       "    </tr>\n",
       "    <tr>\n",
       "      <th>3</th>\n",
       "      <td>0.29</td>\n",
       "      <td>Premium</td>\n",
       "      <td>I</td>\n",
       "      <td>VS2</td>\n",
       "      <td>62.4</td>\n",
       "      <td>58.0</td>\n",
       "      <td>334</td>\n",
       "      <td>4.20</td>\n",
       "      <td>4.23</td>\n",
       "      <td>2.63</td>\n",
       "    </tr>\n",
       "    <tr>\n",
       "      <th>4</th>\n",
       "      <td>0.31</td>\n",
       "      <td>Good</td>\n",
       "      <td>J</td>\n",
       "      <td>SI2</td>\n",
       "      <td>63.3</td>\n",
       "      <td>58.0</td>\n",
       "      <td>335</td>\n",
       "      <td>4.34</td>\n",
       "      <td>4.35</td>\n",
       "      <td>2.75</td>\n",
       "    </tr>\n",
       "    <tr>\n",
       "      <th>...</th>\n",
       "      <td>...</td>\n",
       "      <td>...</td>\n",
       "      <td>...</td>\n",
       "      <td>...</td>\n",
       "      <td>...</td>\n",
       "      <td>...</td>\n",
       "      <td>...</td>\n",
       "      <td>...</td>\n",
       "      <td>...</td>\n",
       "      <td>...</td>\n",
       "    </tr>\n",
       "    <tr>\n",
       "      <th>53935</th>\n",
       "      <td>0.72</td>\n",
       "      <td>Ideal</td>\n",
       "      <td>D</td>\n",
       "      <td>SI1</td>\n",
       "      <td>60.8</td>\n",
       "      <td>57.0</td>\n",
       "      <td>2757</td>\n",
       "      <td>5.75</td>\n",
       "      <td>5.76</td>\n",
       "      <td>3.50</td>\n",
       "    </tr>\n",
       "    <tr>\n",
       "      <th>53936</th>\n",
       "      <td>0.72</td>\n",
       "      <td>Good</td>\n",
       "      <td>D</td>\n",
       "      <td>SI1</td>\n",
       "      <td>63.1</td>\n",
       "      <td>55.0</td>\n",
       "      <td>2757</td>\n",
       "      <td>5.69</td>\n",
       "      <td>5.75</td>\n",
       "      <td>3.61</td>\n",
       "    </tr>\n",
       "    <tr>\n",
       "      <th>53937</th>\n",
       "      <td>0.70</td>\n",
       "      <td>Very Good</td>\n",
       "      <td>D</td>\n",
       "      <td>SI1</td>\n",
       "      <td>62.8</td>\n",
       "      <td>60.0</td>\n",
       "      <td>2757</td>\n",
       "      <td>5.66</td>\n",
       "      <td>5.68</td>\n",
       "      <td>3.56</td>\n",
       "    </tr>\n",
       "    <tr>\n",
       "      <th>53938</th>\n",
       "      <td>0.86</td>\n",
       "      <td>Premium</td>\n",
       "      <td>H</td>\n",
       "      <td>SI2</td>\n",
       "      <td>61.0</td>\n",
       "      <td>58.0</td>\n",
       "      <td>2757</td>\n",
       "      <td>6.15</td>\n",
       "      <td>6.12</td>\n",
       "      <td>3.74</td>\n",
       "    </tr>\n",
       "    <tr>\n",
       "      <th>53939</th>\n",
       "      <td>0.75</td>\n",
       "      <td>Ideal</td>\n",
       "      <td>D</td>\n",
       "      <td>SI2</td>\n",
       "      <td>62.2</td>\n",
       "      <td>55.0</td>\n",
       "      <td>2757</td>\n",
       "      <td>5.83</td>\n",
       "      <td>5.87</td>\n",
       "      <td>3.64</td>\n",
       "    </tr>\n",
       "  </tbody>\n",
       "</table>\n",
       "<p>53940 rows × 10 columns</p>\n",
       "</div>"
      ],
      "text/plain": [
       "       carat        cut color clarity  depth  table  price     x     y     z\n",
       "0       0.23      Ideal     E     SI2   61.5   55.0    326  3.95  3.98  2.43\n",
       "1       0.21    Premium     E     SI1   59.8   61.0    326  3.89  3.84  2.31\n",
       "2       0.23       Good     E     VS1   56.9   65.0    327  4.05  4.07  2.31\n",
       "3       0.29    Premium     I     VS2   62.4   58.0    334  4.20  4.23  2.63\n",
       "4       0.31       Good     J     SI2   63.3   58.0    335  4.34  4.35  2.75\n",
       "...      ...        ...   ...     ...    ...    ...    ...   ...   ...   ...\n",
       "53935   0.72      Ideal     D     SI1   60.8   57.0   2757  5.75  5.76  3.50\n",
       "53936   0.72       Good     D     SI1   63.1   55.0   2757  5.69  5.75  3.61\n",
       "53937   0.70  Very Good     D     SI1   62.8   60.0   2757  5.66  5.68  3.56\n",
       "53938   0.86    Premium     H     SI2   61.0   58.0   2757  6.15  6.12  3.74\n",
       "53939   0.75      Ideal     D     SI2   62.2   55.0   2757  5.83  5.87  3.64\n",
       "\n",
       "[53940 rows x 10 columns]"
      ]
     },
     "execution_count": 15,
     "metadata": {},
     "output_type": "execute_result"
    }
   ],
   "source": [
    "import pandas as pd\n",
    "\n",
    "diamonds = pd.read_csv('https://raw.githubusercontent.com/mwaskom/seaborn-data/master/diamonds.csv')\n",
    "diamonds"
   ]
  },
  {
   "cell_type": "markdown",
   "metadata": {},
   "source": [
    "В датафрейм `diamonds` загружены записи об алмазах: число карат, качество огранки, цвет, чистота, глубина, размер верхней грани, цена и три измерения размеров.\n",
    "\n",
    "Выведите на экран следующие значения:\n",
    "\n",
    "1. Цена самого большого по числу карат алмаза."
   ]
  },
  {
   "cell_type": "code",
   "execution_count": 16,
   "metadata": {},
   "outputs": [
    {
     "data": {
      "text/plain": [
       "27415    18018\n",
       "Name: price, dtype: int64"
      ]
     },
     "execution_count": 16,
     "metadata": {},
     "output_type": "execute_result"
    }
   ],
   "source": [
    "diamonds[diamonds['carat'] == diamonds['carat'].max()]['price']"
   ]
  },
  {
   "cell_type": "markdown",
   "metadata": {},
   "source": [
    "2. Средняя цена за карат."
   ]
  },
  {
   "cell_type": "code",
   "execution_count": 17,
   "metadata": {},
   "outputs": [
    {
     "data": {
      "text/plain": [
       "4008.3947962312695"
      ]
     },
     "execution_count": 17,
     "metadata": {},
     "output_type": "execute_result"
    }
   ],
   "source": [
    "(diamonds[\"price\"] / diamonds[\"carat\"]).mean()"
   ]
  },
  {
   "cell_type": "markdown",
   "metadata": {},
   "source": [
    "2. Процент алмазов, имеющих чистоту уровня `\"VVS2\"` или лучше (считая, что чистота идет по убыванию в порядке `\"IF\"`, `\"VVS1\"`, `\"VVS2\"`, `\"VS1\"`, `\"VS2\"`, `\"SI1\"`, `\"SI2\"`, `\"SI3\"`, `\"I1\"`)."
   ]
  },
  {
   "cell_type": "code",
   "execution_count": 18,
   "metadata": {},
   "outputs": [
    {
     "data": {
      "text/plain": [
       "19.486466444197255"
      ]
     },
     "execution_count": 18,
     "metadata": {},
     "output_type": "execute_result"
    }
   ],
   "source": [
    "(len(diamonds[diamonds['clarity'].isin([\"IF\", \"VVS1\", \"VVS2\"])]) / len(diamonds)) * 100"
   ]
  },
  {
   "cell_type": "markdown",
   "metadata": {},
   "source": [
    "### Задание №3 C"
   ]
  },
  {
   "cell_type": "code",
   "execution_count": 90,
   "metadata": {},
   "outputs": [
    {
     "data": {
      "text/html": [
       "<div>\n",
       "<style scoped>\n",
       "    .dataframe tbody tr th:only-of-type {\n",
       "        vertical-align: middle;\n",
       "    }\n",
       "\n",
       "    .dataframe tbody tr th {\n",
       "        vertical-align: top;\n",
       "    }\n",
       "\n",
       "    .dataframe thead th {\n",
       "        text-align: right;\n",
       "    }\n",
       "</style>\n",
       "<table border=\"1\" class=\"dataframe\">\n",
       "  <thead>\n",
       "    <tr style=\"text-align: right;\">\n",
       "      <th></th>\n",
       "      <th>total_bill</th>\n",
       "      <th>tip</th>\n",
       "      <th>sex</th>\n",
       "      <th>smoker</th>\n",
       "      <th>day</th>\n",
       "      <th>time</th>\n",
       "      <th>size</th>\n",
       "    </tr>\n",
       "  </thead>\n",
       "  <tbody>\n",
       "    <tr>\n",
       "      <th>0</th>\n",
       "      <td>16.99</td>\n",
       "      <td>1.01</td>\n",
       "      <td>Female</td>\n",
       "      <td>No</td>\n",
       "      <td>Sun</td>\n",
       "      <td>Dinner</td>\n",
       "      <td>2</td>\n",
       "    </tr>\n",
       "    <tr>\n",
       "      <th>1</th>\n",
       "      <td>10.34</td>\n",
       "      <td>1.66</td>\n",
       "      <td>Male</td>\n",
       "      <td>No</td>\n",
       "      <td>Sun</td>\n",
       "      <td>Dinner</td>\n",
       "      <td>3</td>\n",
       "    </tr>\n",
       "    <tr>\n",
       "      <th>2</th>\n",
       "      <td>21.01</td>\n",
       "      <td>3.50</td>\n",
       "      <td>Male</td>\n",
       "      <td>No</td>\n",
       "      <td>Sun</td>\n",
       "      <td>Dinner</td>\n",
       "      <td>3</td>\n",
       "    </tr>\n",
       "    <tr>\n",
       "      <th>3</th>\n",
       "      <td>23.68</td>\n",
       "      <td>3.31</td>\n",
       "      <td>Male</td>\n",
       "      <td>No</td>\n",
       "      <td>Sun</td>\n",
       "      <td>Dinner</td>\n",
       "      <td>2</td>\n",
       "    </tr>\n",
       "    <tr>\n",
       "      <th>4</th>\n",
       "      <td>24.59</td>\n",
       "      <td>3.61</td>\n",
       "      <td>Female</td>\n",
       "      <td>No</td>\n",
       "      <td>Sun</td>\n",
       "      <td>Dinner</td>\n",
       "      <td>4</td>\n",
       "    </tr>\n",
       "    <tr>\n",
       "      <th>...</th>\n",
       "      <td>...</td>\n",
       "      <td>...</td>\n",
       "      <td>...</td>\n",
       "      <td>...</td>\n",
       "      <td>...</td>\n",
       "      <td>...</td>\n",
       "      <td>...</td>\n",
       "    </tr>\n",
       "    <tr>\n",
       "      <th>239</th>\n",
       "      <td>29.03</td>\n",
       "      <td>5.92</td>\n",
       "      <td>Male</td>\n",
       "      <td>No</td>\n",
       "      <td>Sat</td>\n",
       "      <td>Dinner</td>\n",
       "      <td>3</td>\n",
       "    </tr>\n",
       "    <tr>\n",
       "      <th>240</th>\n",
       "      <td>27.18</td>\n",
       "      <td>2.00</td>\n",
       "      <td>Female</td>\n",
       "      <td>Yes</td>\n",
       "      <td>Sat</td>\n",
       "      <td>Dinner</td>\n",
       "      <td>2</td>\n",
       "    </tr>\n",
       "    <tr>\n",
       "      <th>241</th>\n",
       "      <td>22.67</td>\n",
       "      <td>2.00</td>\n",
       "      <td>Male</td>\n",
       "      <td>Yes</td>\n",
       "      <td>Sat</td>\n",
       "      <td>Dinner</td>\n",
       "      <td>2</td>\n",
       "    </tr>\n",
       "    <tr>\n",
       "      <th>242</th>\n",
       "      <td>17.82</td>\n",
       "      <td>1.75</td>\n",
       "      <td>Male</td>\n",
       "      <td>No</td>\n",
       "      <td>Sat</td>\n",
       "      <td>Dinner</td>\n",
       "      <td>2</td>\n",
       "    </tr>\n",
       "    <tr>\n",
       "      <th>243</th>\n",
       "      <td>18.78</td>\n",
       "      <td>3.00</td>\n",
       "      <td>Female</td>\n",
       "      <td>No</td>\n",
       "      <td>Thur</td>\n",
       "      <td>Dinner</td>\n",
       "      <td>2</td>\n",
       "    </tr>\n",
       "  </tbody>\n",
       "</table>\n",
       "<p>244 rows × 7 columns</p>\n",
       "</div>"
      ],
      "text/plain": [
       "     total_bill   tip     sex smoker   day    time  size\n",
       "0         16.99  1.01  Female     No   Sun  Dinner     2\n",
       "1         10.34  1.66    Male     No   Sun  Dinner     3\n",
       "2         21.01  3.50    Male     No   Sun  Dinner     3\n",
       "3         23.68  3.31    Male     No   Sun  Dinner     2\n",
       "4         24.59  3.61  Female     No   Sun  Dinner     4\n",
       "..          ...   ...     ...    ...   ...     ...   ...\n",
       "239       29.03  5.92    Male     No   Sat  Dinner     3\n",
       "240       27.18  2.00  Female    Yes   Sat  Dinner     2\n",
       "241       22.67  2.00    Male    Yes   Sat  Dinner     2\n",
       "242       17.82  1.75    Male     No   Sat  Dinner     2\n",
       "243       18.78  3.00  Female     No  Thur  Dinner     2\n",
       "\n",
       "[244 rows x 7 columns]"
      ]
     },
     "execution_count": 90,
     "metadata": {},
     "output_type": "execute_result"
    }
   ],
   "source": [
    "import pandas as pd\n",
    "\n",
    "tips = pd.read_csv('https://raw.githubusercontent.com/mwaskom/seaborn-data/master/tips.csv')\n",
    "tips"
   ]
  },
  {
   "cell_type": "markdown",
   "metadata": {},
   "source": [
    "В датафрейм `tips` загружены данные о чаевых и посетителях, которые их оставили. На основании записей в датасете определите:\n",
    "\n",
    "1. Какой процент среди мужчин составляют курильщики?"
   ]
  },
  {
   "cell_type": "code",
   "execution_count": 104,
   "metadata": {},
   "outputs": [
    {
     "data": {
      "text/plain": [
       "0.3821656050955414"
      ]
     },
     "execution_count": 104,
     "metadata": {},
     "output_type": "execute_result"
    }
   ],
   "source": [
    "len(tips[(tips['sex'] == 'Male') & (tips['smoker'] == 'Yes')]) / len(tips[tips['sex'] == 'Male'])"
   ]
  },
  {
   "cell_type": "markdown",
   "metadata": {},
   "source": [
    "2. Кто в среднем оставлял больше чаевых &ndash; мужчины или женщины?"
   ]
  },
  {
   "cell_type": "code",
   "execution_count": 96,
   "metadata": {},
   "outputs": [
    {
     "data": {
      "text/plain": [
       "(2.6305732484076434, 2.4597701149425286)"
      ]
     },
     "execution_count": 96,
     "metadata": {},
     "output_type": "execute_result"
    }
   ],
   "source": [
    "tips[tips['sex'] == 'Male'][\"size\"].mean(), tips[tips['sex'] == 'Female'][\"size\"].mean()\n"
   ]
  },
  {
   "cell_type": "markdown",
   "metadata": {},
   "source": [
    "3. В какой день недели оставляли больше всего чаевых?"
   ]
  },
  {
   "cell_type": "code",
   "execution_count": 102,
   "metadata": {},
   "outputs": [
    {
     "data": {
      "text/plain": [
       "(2.4516129032258065,\n",
       " 2.1052631578947367,\n",
       " 2.5172413793103448,\n",
       " 2.8421052631578947)"
      ]
     },
     "execution_count": 102,
     "metadata": {},
     "output_type": "execute_result"
    }
   ],
   "source": [
    "(\n",
    "    tips[tips[\"day\"] == \"Thur\"][\"size\"].mean(),\n",
    "    tips[tips[\"day\"] == \"Fri\"][\"size\"].mean(),\n",
    "    tips[tips[\"day\"] == \"Sat\"][\"size\"].mean(),\n",
    "    tips[tips[\"day\"] == \"Sun\"][\"size\"].mean(),\n",
    ")"
   ]
  },
  {
   "cell_type": "markdown",
   "metadata": {},
   "source": [
    "### Задание №3 D\n",
    "\n"
   ]
  },
  {
   "cell_type": "code",
   "execution_count": 105,
   "metadata": {},
   "outputs": [
    {
     "data": {
      "text/html": [
       "<div>\n",
       "<style scoped>\n",
       "    .dataframe tbody tr th:only-of-type {\n",
       "        vertical-align: middle;\n",
       "    }\n",
       "\n",
       "    .dataframe tbody tr th {\n",
       "        vertical-align: top;\n",
       "    }\n",
       "\n",
       "    .dataframe thead th {\n",
       "        text-align: right;\n",
       "    }\n",
       "</style>\n",
       "<table border=\"1\" class=\"dataframe\">\n",
       "  <thead>\n",
       "    <tr style=\"text-align: right;\">\n",
       "      <th></th>\n",
       "      <th>mpg</th>\n",
       "      <th>cylinders</th>\n",
       "      <th>displacement</th>\n",
       "      <th>horsepower</th>\n",
       "      <th>weight</th>\n",
       "      <th>acceleration</th>\n",
       "      <th>model_year</th>\n",
       "      <th>origin</th>\n",
       "      <th>name</th>\n",
       "    </tr>\n",
       "  </thead>\n",
       "  <tbody>\n",
       "    <tr>\n",
       "      <th>0</th>\n",
       "      <td>18.0</td>\n",
       "      <td>8</td>\n",
       "      <td>307.0</td>\n",
       "      <td>130.0</td>\n",
       "      <td>3504</td>\n",
       "      <td>12.0</td>\n",
       "      <td>70</td>\n",
       "      <td>usa</td>\n",
       "      <td>chevrolet chevelle malibu</td>\n",
       "    </tr>\n",
       "    <tr>\n",
       "      <th>1</th>\n",
       "      <td>15.0</td>\n",
       "      <td>8</td>\n",
       "      <td>350.0</td>\n",
       "      <td>165.0</td>\n",
       "      <td>3693</td>\n",
       "      <td>11.5</td>\n",
       "      <td>70</td>\n",
       "      <td>usa</td>\n",
       "      <td>buick skylark 320</td>\n",
       "    </tr>\n",
       "    <tr>\n",
       "      <th>2</th>\n",
       "      <td>18.0</td>\n",
       "      <td>8</td>\n",
       "      <td>318.0</td>\n",
       "      <td>150.0</td>\n",
       "      <td>3436</td>\n",
       "      <td>11.0</td>\n",
       "      <td>70</td>\n",
       "      <td>usa</td>\n",
       "      <td>plymouth satellite</td>\n",
       "    </tr>\n",
       "    <tr>\n",
       "      <th>3</th>\n",
       "      <td>16.0</td>\n",
       "      <td>8</td>\n",
       "      <td>304.0</td>\n",
       "      <td>150.0</td>\n",
       "      <td>3433</td>\n",
       "      <td>12.0</td>\n",
       "      <td>70</td>\n",
       "      <td>usa</td>\n",
       "      <td>amc rebel sst</td>\n",
       "    </tr>\n",
       "    <tr>\n",
       "      <th>4</th>\n",
       "      <td>17.0</td>\n",
       "      <td>8</td>\n",
       "      <td>302.0</td>\n",
       "      <td>140.0</td>\n",
       "      <td>3449</td>\n",
       "      <td>10.5</td>\n",
       "      <td>70</td>\n",
       "      <td>usa</td>\n",
       "      <td>ford torino</td>\n",
       "    </tr>\n",
       "    <tr>\n",
       "      <th>...</th>\n",
       "      <td>...</td>\n",
       "      <td>...</td>\n",
       "      <td>...</td>\n",
       "      <td>...</td>\n",
       "      <td>...</td>\n",
       "      <td>...</td>\n",
       "      <td>...</td>\n",
       "      <td>...</td>\n",
       "      <td>...</td>\n",
       "    </tr>\n",
       "    <tr>\n",
       "      <th>393</th>\n",
       "      <td>27.0</td>\n",
       "      <td>4</td>\n",
       "      <td>140.0</td>\n",
       "      <td>86.0</td>\n",
       "      <td>2790</td>\n",
       "      <td>15.6</td>\n",
       "      <td>82</td>\n",
       "      <td>usa</td>\n",
       "      <td>ford mustang gl</td>\n",
       "    </tr>\n",
       "    <tr>\n",
       "      <th>394</th>\n",
       "      <td>44.0</td>\n",
       "      <td>4</td>\n",
       "      <td>97.0</td>\n",
       "      <td>52.0</td>\n",
       "      <td>2130</td>\n",
       "      <td>24.6</td>\n",
       "      <td>82</td>\n",
       "      <td>europe</td>\n",
       "      <td>vw pickup</td>\n",
       "    </tr>\n",
       "    <tr>\n",
       "      <th>395</th>\n",
       "      <td>32.0</td>\n",
       "      <td>4</td>\n",
       "      <td>135.0</td>\n",
       "      <td>84.0</td>\n",
       "      <td>2295</td>\n",
       "      <td>11.6</td>\n",
       "      <td>82</td>\n",
       "      <td>usa</td>\n",
       "      <td>dodge rampage</td>\n",
       "    </tr>\n",
       "    <tr>\n",
       "      <th>396</th>\n",
       "      <td>28.0</td>\n",
       "      <td>4</td>\n",
       "      <td>120.0</td>\n",
       "      <td>79.0</td>\n",
       "      <td>2625</td>\n",
       "      <td>18.6</td>\n",
       "      <td>82</td>\n",
       "      <td>usa</td>\n",
       "      <td>ford ranger</td>\n",
       "    </tr>\n",
       "    <tr>\n",
       "      <th>397</th>\n",
       "      <td>31.0</td>\n",
       "      <td>4</td>\n",
       "      <td>119.0</td>\n",
       "      <td>82.0</td>\n",
       "      <td>2720</td>\n",
       "      <td>19.4</td>\n",
       "      <td>82</td>\n",
       "      <td>usa</td>\n",
       "      <td>chevy s-10</td>\n",
       "    </tr>\n",
       "  </tbody>\n",
       "</table>\n",
       "<p>398 rows × 9 columns</p>\n",
       "</div>"
      ],
      "text/plain": [
       "      mpg  cylinders  displacement  horsepower  weight  acceleration  \\\n",
       "0    18.0          8         307.0       130.0    3504          12.0   \n",
       "1    15.0          8         350.0       165.0    3693          11.5   \n",
       "2    18.0          8         318.0       150.0    3436          11.0   \n",
       "3    16.0          8         304.0       150.0    3433          12.0   \n",
       "4    17.0          8         302.0       140.0    3449          10.5   \n",
       "..    ...        ...           ...         ...     ...           ...   \n",
       "393  27.0          4         140.0        86.0    2790          15.6   \n",
       "394  44.0          4          97.0        52.0    2130          24.6   \n",
       "395  32.0          4         135.0        84.0    2295          11.6   \n",
       "396  28.0          4         120.0        79.0    2625          18.6   \n",
       "397  31.0          4         119.0        82.0    2720          19.4   \n",
       "\n",
       "     model_year  origin                       name  \n",
       "0            70     usa  chevrolet chevelle malibu  \n",
       "1            70     usa          buick skylark 320  \n",
       "2            70     usa         plymouth satellite  \n",
       "3            70     usa              amc rebel sst  \n",
       "4            70     usa                ford torino  \n",
       "..          ...     ...                        ...  \n",
       "393          82     usa            ford mustang gl  \n",
       "394          82  europe                  vw pickup  \n",
       "395          82     usa              dodge rampage  \n",
       "396          82     usa                ford ranger  \n",
       "397          82     usa                 chevy s-10  \n",
       "\n",
       "[398 rows x 9 columns]"
      ]
     },
     "execution_count": 105,
     "metadata": {},
     "output_type": "execute_result"
    }
   ],
   "source": [
    "import pandas as pd\n",
    "\n",
    "cars = pd.read_csv('https://raw.githubusercontent.com/mwaskom/seaborn-data/master/mpg.csv')\n",
    "cars"
   ]
  },
  {
   "cell_type": "markdown",
   "metadata": {},
   "source": [
    "В датасет `cars` загружены следующие данные о автомобилях: число миль на галлон, количество цилиндров в двигателе, объем двигателя, мощность в лошадиных силах, вес, ускорение, год производства, страна происхождения и название. На основании записей в датасете определите:\n",
    "\n",
    "1. Сколько машин весом более 3000 в данном датасете было произведено не в США?"
   ]
  },
  {
   "cell_type": "code",
   "execution_count": 118,
   "metadata": {},
   "outputs": [
    {
     "data": {
      "text/plain": [
       "10"
      ]
     },
     "execution_count": 118,
     "metadata": {},
     "output_type": "execute_result"
    }
   ],
   "source": [
    "len(cars[(cars['weight'] > 3000) & (cars['origin'] != 'usa')])"
   ]
  },
  {
   "cell_type": "markdown",
   "metadata": {},
   "source": [
    "2. Какова максимальная мощность двигателя в лошадиных силах среди машин из США?"
   ]
  },
  {
   "cell_type": "code",
   "execution_count": 107,
   "metadata": {},
   "outputs": [
    {
     "data": {
      "text/plain": [
       "230.0"
      ]
     },
     "execution_count": 107,
     "metadata": {},
     "output_type": "execute_result"
    }
   ],
   "source": [
    "cars[cars['origin'] == 'usa']['horsepower'].max()"
   ]
  },
  {
   "cell_type": "markdown",
   "metadata": {},
   "source": [
    "3. Сколько машин с 4 цилиндрами имеют показатель ускорения более 23?"
   ]
  },
  {
   "cell_type": "code",
   "execution_count": 116,
   "metadata": {},
   "outputs": [
    {
     "data": {
      "text/plain": [
       "4"
      ]
     },
     "execution_count": 116,
     "metadata": {},
     "output_type": "execute_result"
    }
   ],
   "source": [
    "len(cars[(cars['cylinders'] == 4) & (cars['acceleration'] > 23)])"
   ]
  }
 ],
 "metadata": {
  "kernelspec": {
   "display_name": "sandbox",
   "language": "python",
   "name": "python3"
  },
  "language_info": {
   "codemirror_mode": {
    "name": "ipython",
    "version": 3
   },
   "file_extension": ".py",
   "mimetype": "text/x-python",
   "name": "python",
   "nbconvert_exporter": "python",
   "pygments_lexer": "ipython3",
   "version": "3.12.3"
  }
 },
 "nbformat": 4,
 "nbformat_minor": 2
}
