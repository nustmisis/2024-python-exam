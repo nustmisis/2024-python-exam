{
 "cells": [
  {
   "cell_type": "markdown",
   "metadata": {},
   "source": [
    "### Задание №1\n",
    "\n",
    "Реализуйте функцию `mailgun(message, fr, *to)`, которая принимает строку с сообщением `message`, строку с именем отправителя `fr` и произвольное число строк с именами адресатов `to`. Для каждого адресата функция должна вывести на экран строку, содержащую приветствие адресата \"Dear *(имя адресата)*\", текст сообщения `message` и заключение \"Sincerely yours, *(имя отправителя)*\".\n",
    "\n",
    "```python\n",
    ">>> message = 'Could you spare a small smackerel?'\n",
    ">>> mailgun(message, 'Winnie', 'Piglet', 'Rabbit', 'Kanga')\n",
    "Dear Piglet! Could you spare a small smackerel? Sincerely yours, Winnie\n",
    "Dear Rabbit! Could you spare a small smackerel? Sincerely yours, Winnie\n",
    "Dear Kanga! Could you spare a small smackerel? Sincerely yours, Winnie\n",
    "```"
   ]
  },
  {
   "cell_type": "code",
   "execution_count": null,
   "metadata": {},
   "outputs": [],
   "source": []
  },
  {
   "cell_type": "markdown",
   "metadata": {},
   "source": [
    "### Задание №2\n",
    "\n",
    "Реализуйте класс `Distance`, представляющий собой расстояние.\n",
    "\n",
    "Конструктор `Distance` должен принимать целое число `size` и строку `unit`, которые содержат информацию о длине и используемых единицах измерения.\n",
    "\n",
    "```python\n",
    "Distance(50, 'm')    # 50 метров\n",
    "Distance(2, 'km')    # 2 километра\n",
    "Distance(100, 'cm')  # 100 сантиметров\n",
    "```\n",
    "\n",
    "Таблица используемых единиц измерения:\n",
    "\n",
    "|Значение `unit`|Единица измерения|Длина в миллиметрах|\n",
    "|:-------------:|:---------------:|------------------:|\n",
    "|     `'mm'`    |   миллиметры    |                $1$|\n",
    "|     `'cm'`    |   сантиметры    |               $10$|\n",
    "|      `'m'`    |      метры      |       $1000, 10^3$|\n",
    "|     `'km'`    |    километры    |    $1000000, 10^6$|\n",
    "\n",
    "При передаче любого другого значения `unit` должно выбрасываться исключение `ValueError`.\n",
    "\n",
    "Реализуйте сложение экземпляров `Distance`. Результатом операции должен быть новый экземпляр `Distance`, длина которого должна быть равна сумме длин операндов.\n",
    "\n",
    "```python\n",
    ">>> Distance(100, 'm') + Distance(3, 'km')\n",
    "'3.1km'\n",
    "```\n",
    "\n",
    "При выводе экземпляров `Distance` должна выводиться строка, содержащая длину в самых крупных единицах, при условии что выводимое число не меньше единицы, и название единиц измерения в нижнем регистре. Расстояния с длиной 0 метров должны выводиться как `'0.0mm'`.\n",
    "\n",
    "```python\n",
    ">>> Distance(100, 'mm')\n",
    "'10.0cm'\n",
    "\n",
    ">>> Distance(250, 'm') + Distance(900, 'm')\n",
    "'1.15km'\n",
    "\n",
    ">>> Distance(50000, 'cm') + Distance(600000, 'mm')\n",
    "'5.6km'\n",
    "```"
   ]
  },
  {
   "cell_type": "code",
   "execution_count": null,
   "metadata": {},
   "outputs": [],
   "source": []
  },
  {
   "cell_type": "markdown",
   "metadata": {},
   "source": [
    "### Задание №3"
   ]
  },
  {
   "cell_type": "code",
   "execution_count": null,
   "metadata": {},
   "outputs": [],
   "source": [
    "import pandas as pd\n",
    "\n",
    "tips = pd.read_csv('https://raw.githubusercontent.com/mwaskom/seaborn-data/master/tips.csv')\n",
    "tips"
   ]
  },
  {
   "cell_type": "markdown",
   "metadata": {},
   "source": [
    "В датафрейм `tips` загружены данные о чаевых и посетителях, которые их оставили. На основании записей в датасете определите:\n",
    "\n",
    "1. Какой процент среди мужчин составляют курильщики?"
   ]
  },
  {
   "cell_type": "code",
   "execution_count": null,
   "metadata": {},
   "outputs": [],
   "source": []
  },
  {
   "cell_type": "markdown",
   "metadata": {},
   "source": [
    "2. Кто в среднем оставлял больше чаевых &ndash; мужчины или женщины?"
   ]
  },
  {
   "cell_type": "code",
   "execution_count": null,
   "metadata": {},
   "outputs": [],
   "source": []
  },
  {
   "cell_type": "markdown",
   "metadata": {},
   "source": [
    "3. В какой день недели оставляли больше всего чаевых?"
   ]
  },
  {
   "cell_type": "code",
   "execution_count": null,
   "metadata": {},
   "outputs": [],
   "source": []
  }
 ],
 "metadata": {
  "kernelspec": {
   "display_name": "sandbox",
   "language": "python",
   "name": "python3"
  },
  "language_info": {
   "codemirror_mode": {
    "name": "ipython",
    "version": 3
   },
   "file_extension": ".py",
   "mimetype": "text/x-python",
   "name": "python",
   "nbconvert_exporter": "python",
   "pygments_lexer": "ipython3",
   "version": "3.1.-1"
  }
 },
 "nbformat": 4,
 "nbformat_minor": 2
}
