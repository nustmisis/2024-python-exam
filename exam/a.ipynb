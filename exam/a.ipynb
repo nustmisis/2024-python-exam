{
 "cells": [
  {
   "cell_type": "markdown",
   "metadata": {},
   "source": [
    "### Задание №1\n",
    "\n",
    "Реализуйте функцию `flatten(arr)`, которая принимает список `arr`, все элементы которого также являются списками. Возвращаемое значение функции должно быть списком из всех элементов списков, вложенных в `arr`.\n",
    "\n",
    "```python\n",
    ">>> flatten([[1, 2], [3, 4]])\n",
    "[1, 2, 3, 4]\n",
    "\n",
    ">>> flatten([\n",
    "... [\"h\", \"e\", \"l\"],\n",
    "... [\"l\", \"o\", \" \"],\n",
    "... [\"w\", \"o\", \"r\"],\n",
    "... [\"l\", \"d\", \"!\"],\n",
    "... ])\n",
    "[\"h\", \"e\", \"l\", \"l\", \"o\", \" \", \"w\", \"o\", \"r\", \"l\", \"d\", \"!\"]\n",
    "\n",
    ">>> flatten([[\"a\", \"b\", [\"c\"]]])\n",
    "[\"a\", \"b\", [\"c\"]]\n",
    "```"
   ]
  },
  {
   "cell_type": "code",
   "execution_count": null,
   "metadata": {},
   "outputs": [],
   "source": []
  },
  {
   "cell_type": "markdown",
   "metadata": {},
   "source": [
    "### Задание №2\n",
    "\n",
    "Реализуйте класс `Uint8`, отражающий целое число в диапазоне $[0; 255]$ (от 0 до 255 включительно). Конструктор `Uint8` принимает целое число, которое считается числовым значением экземпляра `Uint8`. \n",
    "\n",
    "Реализуйте операции сложения и вычитания для класса `Uint8`, поддерживающие операции с другими экземплярами `Uint8` или `int` (правосторонние операторы реализовывать не требуется).\n",
    "\n",
    "В экземпляре `Uint8` никогда не должно храниться число вне диапазона $[0; 255]$. Если любая операция (создание экземпляра, сложение или вычитание) приводит к выходу за пределы диапазона, полученное число должно быть разделено на `256` по модулю.\n",
    "\n",
    "Вывод экземпляра `Uint8` в консоль должен быть идентичен выводу в консоль числа типа `int` с тем же значением.\n",
    "\n",
    "```python\n",
    ">>> Uint8(5)\n",
    "5\n",
    "\n",
    ">>> Uint8(3) - 2 + Uint8(1)\n",
    "2\n",
    "\n",
    ">>> Uint8(251) + 10  # (251 + 10) % 256 == (256 + 5) % 256\n",
    "5\n",
    "```"
   ]
  },
  {
   "cell_type": "code",
   "execution_count": null,
   "metadata": {},
   "outputs": [],
   "source": []
  },
  {
   "cell_type": "markdown",
   "metadata": {},
   "source": [
    "### Задание №3"
   ]
  },
  {
   "cell_type": "code",
   "execution_count": null,
   "metadata": {},
   "outputs": [],
   "source": [
    "import pandas as pd\n",
    "\n",
    "penguins = pd.read_csv('https://raw.githubusercontent.com/mwaskom/seaborn-data/master/penguins.csv').dropna()\n",
    "penguins"
   ]
  },
  {
   "cell_type": "markdown",
   "metadata": {},
   "source": [
    "В датафрейм `penguins` загружены записи о пингвинах: вид, остров нахождения, параметры клюва и плавников, масса тела и пол.\n",
    "\n",
    "Выведите на экран следующие значения:\n",
    "\n",
    "1. Количество различных видов, представленных в датасете."
   ]
  },
  {
   "cell_type": "code",
   "execution_count": null,
   "metadata": {},
   "outputs": [],
   "source": []
  },
  {
   "cell_type": "markdown",
   "metadata": {},
   "source": [
    "2. Отношение числа самок к общему числу пингвинов."
   ]
  },
  {
   "cell_type": "code",
   "execution_count": null,
   "metadata": {},
   "outputs": [],
   "source": []
  },
  {
   "cell_type": "markdown",
   "metadata": {},
   "source": [
    "3. Вид (`\"species\"`) пингвина с самой большой массой тела."
   ]
  },
  {
   "cell_type": "code",
   "execution_count": null,
   "metadata": {},
   "outputs": [],
   "source": []
  }
 ],
 "metadata": {
  "kernelspec": {
   "display_name": "sandbox",
   "language": "python",
   "name": "python3"
  },
  "language_info": {
   "codemirror_mode": {
    "name": "ipython",
    "version": 3
   },
   "file_extension": ".py",
   "mimetype": "text/x-python",
   "name": "python",
   "nbconvert_exporter": "python",
   "pygments_lexer": "ipython3",
   "version": "3.12.3"
  }
 },
 "nbformat": 4,
 "nbformat_minor": 2
}
